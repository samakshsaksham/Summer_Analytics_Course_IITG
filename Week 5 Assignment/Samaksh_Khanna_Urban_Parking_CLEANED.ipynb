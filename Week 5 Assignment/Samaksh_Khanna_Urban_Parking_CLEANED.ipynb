{
  "cells": [
    {
      "cell_type": "markdown",
      "id": "bc81e91d",
      "metadata": {
        "id": "bc81e91d"
      },
      "source": [
        "# Dynamic Pricing for Urban Parking Lots\n",
        "Capstone Project of Summer Analytics 2025 hosted by Consulting & Analytics Club, IIT Guwahati\n",
        "\n",
        "1. Introduction and Project Objective\n",
        "This notebook presents a dynamic pricing engine for urban parking lots, aiming to optimize utilization and revenue based on real-time data streams, economic theory, and machine learning models. The project addresses the inefficiencies of static parking prices by implementing a system that adjusts prices dynamically considering demand, competition, and real-time conditions.\n",
        "\n",
        "The core objective is to simulate an intelligent, data-driven pricing engine for 14 parking spaces. This engine will process real-time data to predict optimal prices continuously, and visualize the pricing behavior in real-time."
      ]
    },
    {
      "cell_type": "markdown",
      "source": [
        "#2. Setup and Installations\n",
        "We will install pathway for real-time data processing and bokeh for interactive visualizations. numpy and pandas are fundamental for data manipulation and model building."
      ],
      "metadata": {
        "id": "9iYGrqT_fBZN"
      },
      "id": "9iYGrqT_fBZN"
    },
    {
      "cell_type": "code",
      "execution_count": null,
      "id": "d7679e06",
      "metadata": {
        "colab": {
          "base_uri": "https://localhost:8080/"
        },
        "id": "d7679e06",
        "outputId": "7263dc7b-74d1-4669-904e-e697c4ebb6e4"
      },
      "outputs": [
        {
          "output_type": "stream",
          "name": "stdout",
          "text": [
            "\u001b[2K     \u001b[90m\u2501\u2501\u2501\u2501\u2501\u2501\u2501\u2501\u2501\u2501\u2501\u2501\u2501\u2501\u2501\u2501\u2501\u2501\u2501\u2501\u2501\u2501\u2501\u2501\u2501\u2501\u2501\u2501\u2501\u2501\u2501\u2501\u2501\u2501\u2501\u2501\u2501\u2501\u2501\u2501\u001b[0m \u001b[32m60.4/60.4 kB\u001b[0m \u001b[31m2.7 MB/s\u001b[0m eta \u001b[36m0:00:00\u001b[0m\n",
            "\u001b[2K     \u001b[90m\u2501\u2501\u2501\u2501\u2501\u2501\u2501\u2501\u2501\u2501\u2501\u2501\u2501\u2501\u2501\u2501\u2501\u2501\u2501\u2501\u2501\u2501\u2501\u2501\u2501\u2501\u2501\u2501\u2501\u2501\u2501\u2501\u2501\u2501\u2501\u2501\u2501\u2501\u2501\u001b[0m \u001b[32m149.4/149.4 kB\u001b[0m \u001b[31m7.3 MB/s\u001b[0m eta \u001b[36m0:00:00\u001b[0m\n",
            "\u001b[2K   \u001b[90m\u2501\u2501\u2501\u2501\u2501\u2501\u2501\u2501\u2501\u2501\u2501\u2501\u2501\u2501\u2501\u2501\u2501\u2501\u2501\u2501\u2501\u2501\u2501\u2501\u2501\u2501\u2501\u2501\u2501\u2501\u2501\u2501\u2501\u2501\u2501\u2501\u2501\u2501\u2501\u2501\u001b[0m \u001b[32m69.7/69.7 MB\u001b[0m \u001b[31m12.0 MB/s\u001b[0m eta \u001b[36m0:00:00\u001b[0m\n",
            "\u001b[2K   \u001b[90m\u2501\u2501\u2501\u2501\u2501\u2501\u2501\u2501\u2501\u2501\u2501\u2501\u2501\u2501\u2501\u2501\u2501\u2501\u2501\u2501\u2501\u2501\u2501\u2501\u2501\u2501\u2501\u2501\u2501\u2501\u2501\u2501\u2501\u2501\u2501\u2501\u2501\u2501\u2501\u2501\u001b[0m \u001b[32m77.6/77.6 kB\u001b[0m \u001b[31m4.6 MB/s\u001b[0m eta \u001b[36m0:00:00\u001b[0m\n",
            "\u001b[2K   \u001b[90m\u2501\u2501\u2501\u2501\u2501\u2501\u2501\u2501\u2501\u2501\u2501\u2501\u2501\u2501\u2501\u2501\u2501\u2501\u2501\u2501\u2501\u2501\u2501\u2501\u2501\u2501\u2501\u2501\u2501\u2501\u2501\u2501\u2501\u2501\u2501\u2501\u2501\u2501\u2501\u2501\u001b[0m \u001b[32m777.6/777.6 kB\u001b[0m \u001b[31m39.8 MB/s\u001b[0m eta \u001b[36m0:00:00\u001b[0m\n",
            "\u001b[2K   \u001b[90m\u2501\u2501\u2501\u2501\u2501\u2501\u2501\u2501\u2501\u2501\u2501\u2501\u2501\u2501\u2501\u2501\u2501\u2501\u2501\u2501\u2501\u2501\u2501\u2501\u2501\u2501\u2501\u2501\u2501\u2501\u2501\u2501\u2501\u2501\u2501\u2501\u2501\u2501\u2501\u2501\u001b[0m \u001b[32m139.2/139.2 kB\u001b[0m \u001b[31m11.4 MB/s\u001b[0m eta \u001b[36m0:00:00\u001b[0m\n",
            "\u001b[2K   \u001b[90m\u2501\u2501\u2501\u2501\u2501\u2501\u2501\u2501\u2501\u2501\u2501\u2501\u2501\u2501\u2501\u2501\u2501\u2501\u2501\u2501\u2501\u2501\u2501\u2501\u2501\u2501\u2501\u2501\u2501\u2501\u2501\u2501\u2501\u2501\u2501\u2501\u2501\u2501\u2501\u2501\u001b[0m \u001b[32m26.5/26.5 MB\u001b[0m \u001b[31m63.1 MB/s\u001b[0m eta \u001b[36m0:00:00\u001b[0m\n",
            "\u001b[2K   \u001b[90m\u2501\u2501\u2501\u2501\u2501\u2501\u2501\u2501\u2501\u2501\u2501\u2501\u2501\u2501\u2501\u2501\u2501\u2501\u2501\u2501\u2501\u2501\u2501\u2501\u2501\u2501\u2501\u2501\u2501\u2501\u2501\u2501\u2501\u2501\u2501\u2501\u2501\u2501\u2501\u2501\u001b[0m \u001b[32m45.5/45.5 kB\u001b[0m \u001b[31m3.0 MB/s\u001b[0m eta \u001b[36m0:00:00\u001b[0m\n",
            "\u001b[2K   \u001b[90m\u2501\u2501\u2501\u2501\u2501\u2501\u2501\u2501\u2501\u2501\u2501\u2501\u2501\u2501\u2501\u2501\u2501\u2501\u2501\u2501\u2501\u2501\u2501\u2501\u2501\u2501\u2501\u2501\u2501\u2501\u2501\u2501\u2501\u2501\u2501\u2501\u2501\u2501\u2501\u2501\u001b[0m \u001b[32m135.3/135.3 kB\u001b[0m \u001b[31m9.4 MB/s\u001b[0m eta \u001b[36m0:00:00\u001b[0m\n",
            "\u001b[2K   \u001b[90m\u2501\u2501\u2501\u2501\u2501\u2501\u2501\u2501\u2501\u2501\u2501\u2501\u2501\u2501\u2501\u2501\u2501\u2501\u2501\u2501\u2501\u2501\u2501\u2501\u2501\u2501\u2501\u2501\u2501\u2501\u2501\u2501\u2501\u2501\u2501\u2501\u2501\u2501\u2501\u2501\u001b[0m \u001b[32m244.6/244.6 kB\u001b[0m \u001b[31m16.6 MB/s\u001b[0m eta \u001b[36m0:00:00\u001b[0m\n",
            "\u001b[2K   \u001b[90m\u2501\u2501\u2501\u2501\u2501\u2501\u2501\u2501\u2501\u2501\u2501\u2501\u2501\u2501\u2501\u2501\u2501\u2501\u2501\u2501\u2501\u2501\u2501\u2501\u2501\u2501\u2501\u2501\u2501\u2501\u2501\u2501\u2501\u2501\u2501\u2501\u2501\u2501\u2501\u2501\u001b[0m \u001b[32m318.4/318.4 kB\u001b[0m \u001b[31m21.0 MB/s\u001b[0m eta \u001b[36m0:00:00\u001b[0m\n",
            "\u001b[2K   \u001b[90m\u2501\u2501\u2501\u2501\u2501\u2501\u2501\u2501\u2501\u2501\u2501\u2501\u2501\u2501\u2501\u2501\u2501\u2501\u2501\u2501\u2501\u2501\u2501\u2501\u2501\u2501\u2501\u2501\u2501\u2501\u2501\u2501\u2501\u2501\u2501\u2501\u2501\u2501\u2501\u2501\u001b[0m \u001b[32m985.8/985.8 kB\u001b[0m \u001b[31m45.6 MB/s\u001b[0m eta \u001b[36m0:00:00\u001b[0m\n",
            "\u001b[2K   \u001b[90m\u2501\u2501\u2501\u2501\u2501\u2501\u2501\u2501\u2501\u2501\u2501\u2501\u2501\u2501\u2501\u2501\u2501\u2501\u2501\u2501\u2501\u2501\u2501\u2501\u2501\u2501\u2501\u2501\u2501\u2501\u2501\u2501\u2501\u2501\u2501\u2501\u2501\u2501\u2501\u2501\u001b[0m \u001b[32m148.6/148.6 kB\u001b[0m \u001b[31m10.8 MB/s\u001b[0m eta \u001b[36m0:00:00\u001b[0m\n",
            "\u001b[2K   \u001b[90m\u2501\u2501\u2501\u2501\u2501\u2501\u2501\u2501\u2501\u2501\u2501\u2501\u2501\u2501\u2501\u2501\u2501\u2501\u2501\u2501\u2501\u2501\u2501\u2501\u2501\u2501\u2501\u2501\u2501\u2501\u2501\u2501\u2501\u2501\u2501\u2501\u2501\u2501\u2501\u2501\u001b[0m \u001b[32m139.8/139.8 kB\u001b[0m \u001b[31m10.0 MB/s\u001b[0m eta \u001b[36m0:00:00\u001b[0m\n",
            "\u001b[2K   \u001b[90m\u2501\u2501\u2501\u2501\u2501\u2501\u2501\u2501\u2501\u2501\u2501\u2501\u2501\u2501\u2501\u2501\u2501\u2501\u2501\u2501\u2501\u2501\u2501\u2501\u2501\u2501\u2501\u2501\u2501\u2501\u2501\u2501\u2501\u2501\u2501\u2501\u2501\u2501\u2501\u2501\u001b[0m \u001b[32m65.8/65.8 kB\u001b[0m \u001b[31m4.3 MB/s\u001b[0m eta \u001b[36m0:00:00\u001b[0m\n",
            "\u001b[2K   \u001b[90m\u2501\u2501\u2501\u2501\u2501\u2501\u2501\u2501\u2501\u2501\u2501\u2501\u2501\u2501\u2501\u2501\u2501\u2501\u2501\u2501\u2501\u2501\u2501\u2501\u2501\u2501\u2501\u2501\u2501\u2501\u2501\u2501\u2501\u2501\u2501\u2501\u2501\u2501\u2501\u2501\u001b[0m \u001b[32m55.7/55.7 kB\u001b[0m \u001b[31m3.9 MB/s\u001b[0m eta \u001b[36m0:00:00\u001b[0m\n",
            "\u001b[2K   \u001b[90m\u2501\u2501\u2501\u2501\u2501\u2501\u2501\u2501\u2501\u2501\u2501\u2501\u2501\u2501\u2501\u2501\u2501\u2501\u2501\u2501\u2501\u2501\u2501\u2501\u2501\u2501\u2501\u2501\u2501\u2501\u2501\u2501\u2501\u2501\u2501\u2501\u2501\u2501\u2501\u2501\u001b[0m \u001b[32m118.5/118.5 kB\u001b[0m \u001b[31m9.0 MB/s\u001b[0m eta \u001b[36m0:00:00\u001b[0m\n",
            "\u001b[2K   \u001b[90m\u2501\u2501\u2501\u2501\u2501\u2501\u2501\u2501\u2501\u2501\u2501\u2501\u2501\u2501\u2501\u2501\u2501\u2501\u2501\u2501\u2501\u2501\u2501\u2501\u2501\u2501\u2501\u2501\u2501\u2501\u2501\u2501\u2501\u2501\u2501\u2501\u2501\u2501\u2501\u2501\u001b[0m \u001b[32m196.2/196.2 kB\u001b[0m \u001b[31m15.3 MB/s\u001b[0m eta \u001b[36m0:00:00\u001b[0m\n",
            "\u001b[2K   \u001b[90m\u2501\u2501\u2501\u2501\u2501\u2501\u2501\u2501\u2501\u2501\u2501\u2501\u2501\u2501\u2501\u2501\u2501\u2501\u2501\u2501\u2501\u2501\u2501\u2501\u2501\u2501\u2501\u2501\u2501\u2501\u2501\u2501\u2501\u2501\u2501\u2501\u2501\u2501\u2501\u2501\u001b[0m \u001b[32m434.9/434.9 kB\u001b[0m \u001b[31m27.6 MB/s\u001b[0m eta \u001b[36m0:00:00\u001b[0m\n",
            "\u001b[2K   \u001b[90m\u2501\u2501\u2501\u2501\u2501\u2501\u2501\u2501\u2501\u2501\u2501\u2501\u2501\u2501\u2501\u2501\u2501\u2501\u2501\u2501\u2501\u2501\u2501\u2501\u2501\u2501\u2501\u2501\u2501\u2501\u2501\u2501\u2501\u2501\u2501\u2501\u2501\u2501\u2501\u2501\u001b[0m \u001b[32m2.1/2.1 MB\u001b[0m \u001b[31m66.2 MB/s\u001b[0m eta \u001b[36m0:00:00\u001b[0m\n",
            "\u001b[2K   \u001b[90m\u2501\u2501\u2501\u2501\u2501\u2501\u2501\u2501\u2501\u2501\u2501\u2501\u2501\u2501\u2501\u2501\u2501\u2501\u2501\u2501\u2501\u2501\u2501\u2501\u2501\u2501\u2501\u2501\u2501\u2501\u2501\u2501\u2501\u2501\u2501\u2501\u2501\u2501\u2501\u2501\u001b[0m \u001b[32m2.7/2.7 MB\u001b[0m \u001b[31m58.8 MB/s\u001b[0m eta \u001b[36m0:00:00\u001b[0m\n",
            "\u001b[2K   \u001b[90m\u2501\u2501\u2501\u2501\u2501\u2501\u2501\u2501\u2501\u2501\u2501\u2501\u2501\u2501\u2501\u2501\u2501\u2501\u2501\u2501\u2501\u2501\u2501\u2501\u2501\u2501\u2501\u2501\u2501\u2501\u2501\u2501\u2501\u2501\u2501\u2501\u2501\u2501\u2501\u2501\u001b[0m \u001b[32m13.3/13.3 MB\u001b[0m \u001b[31m83.4 MB/s\u001b[0m eta \u001b[36m0:00:00\u001b[0m\n",
            "\u001b[2K   \u001b[90m\u2501\u2501\u2501\u2501\u2501\u2501\u2501\u2501\u2501\u2501\u2501\u2501\u2501\u2501\u2501\u2501\u2501\u2501\u2501\u2501\u2501\u2501\u2501\u2501\u2501\u2501\u2501\u2501\u2501\u2501\u2501\u2501\u2501\u2501\u2501\u2501\u2501\u2501\u2501\u2501\u001b[0m \u001b[32m83.2/83.2 kB\u001b[0m \u001b[31m5.7 MB/s\u001b[0m eta \u001b[36m0:00:00\u001b[0m\n",
            "\u001b[2K   \u001b[90m\u2501\u2501\u2501\u2501\u2501\u2501\u2501\u2501\u2501\u2501\u2501\u2501\u2501\u2501\u2501\u2501\u2501\u2501\u2501\u2501\u2501\u2501\u2501\u2501\u2501\u2501\u2501\u2501\u2501\u2501\u2501\u2501\u2501\u2501\u2501\u2501\u2501\u2501\u2501\u2501\u001b[0m \u001b[32m2.2/2.2 MB\u001b[0m \u001b[31m62.2 MB/s\u001b[0m eta \u001b[36m0:00:00\u001b[0m\n",
            "\u001b[2K   \u001b[90m\u2501\u2501\u2501\u2501\u2501\u2501\u2501\u2501\u2501\u2501\u2501\u2501\u2501\u2501\u2501\u2501\u2501\u2501\u2501\u2501\u2501\u2501\u2501\u2501\u2501\u2501\u2501\u2501\u2501\u2501\u2501\u2501\u2501\u2501\u2501\u2501\u2501\u2501\u2501\u2501\u001b[0m \u001b[32m1.6/1.6 MB\u001b[0m \u001b[31m57.0 MB/s\u001b[0m eta \u001b[36m0:00:00\u001b[0m\n",
            "\u001b[?25h\u001b[31mERROR: pip's dependency resolver does not currently take into account all the packages that are installed. This behaviour is the source of the following dependency conflicts.\n",
            "bigframes 2.8.0 requires google-cloud-bigquery[bqstorage,pandas]>=3.31.0, but you have google-cloud-bigquery 3.29.0 which is incompatible.\u001b[0m\u001b[31m\n",
            "\u001b[0m"
          ]
        }
      ],
      "source": [
        "%pip install -q pathway bokeh pandas numpy"
      ]
    },
    {
      "cell_type": "code",
      "execution_count": null,
      "id": "32d214b8",
      "metadata": {
        "colab": {
          "base_uri": "https://localhost:8080/",
          "height": 17
        },
        "id": "32d214b8",
        "outputId": "573c27f2-276a-4ba2-a521-223b77147418"
      },
      "outputs": [],
      "source": [
        "import pandas as pd\n",
        "import numpy as np\n",
        "import pathway as pw\n",
        "from bokeh.plotting import figure, show, output_notebook\n",
        "from bokeh.models import ColumnDataSource\n",
        "from datetime import datetime\n",
        "\n",
        "output_notebook()\n"
      ]
    },
    {
      "cell_type": "markdown",
      "id": "4afcfca9",
      "metadata": {
        "id": "4afcfca9"
      },
      "source": [
        "## Step 1 \u2013 Clean and Prepare Dataset\n",
        "We are provided with dataset.csv containing data from 14 urban parking spaces over 73 days, sampled at 18 time points per day. Each record includes location, parking lot features (capacity, occupancy, queue length), vehicle information, and environmental conditions (traffic congestion, special day indicator).\n",
        "\n",
        "The Pathway framework is used to handle the real-time data streams. We will simulate a stream from the dataset.csv file, applying a schema to ensure data consistency."
      ]
    },
    {
      "cell_type": "code",
      "execution_count": null,
      "id": "f23f331d",
      "metadata": {
        "colab": {
          "base_uri": "https://localhost:8080/",
          "height": 1000
        },
        "id": "f23f331d",
        "outputId": "1cf45b87-c8d9-461b-b5ca-b201b43edd7f"
      },
      "outputs": [
        {
          "output_type": "execute_result",
          "data": {
            "text/plain": [
              "   location_id  capacity   latitude  longitude  occupancy vehicle_type  \\\n",
              "0  BHMBCCMKT01       577  26.144536  91.736172         61          car   \n",
              "1  BHMBCCMKT01       577  26.144536  91.736172         64          car   \n",
              "2  BHMBCCMKT01       577  26.144536  91.736172         80          car   \n",
              "3  BHMBCCMKT01       577  26.144536  91.736172        107          car   \n",
              "4  BHMBCCMKT01       577  26.144536  91.736172        150         bike   \n",
              "\n",
              "  traffic  queue_length  is_special_day           timestamp  \n",
              "0     low             1               0 2016-10-04 07:59:00  \n",
              "1     low             1               0 2016-10-04 08:25:00  \n",
              "2     low             2               0 2016-10-04 08:59:00  \n",
              "3     low             2               0 2016-10-04 09:32:00  \n",
              "4     low             2               0 2016-10-04 09:59:00  "
            ],
            "text/html": [
              "\n",
              "  <div id=\"df-a9aacd4e-ecb9-4fe3-875b-0d6108e11fd4\" class=\"colab-df-container\">\n",
              "    <div>\n",
              "<style scoped>\n",
              "    .dataframe tbody tr th:only-of-type {\n",
              "        vertical-align: middle;\n",
              "    }\n",
              "\n",
              "    .dataframe tbody tr th {\n",
              "        vertical-align: top;\n",
              "    }\n",
              "\n",
              "    .dataframe thead th {\n",
              "        text-align: right;\n",
              "    }\n",
              "</style>\n",
              "<table border=\"1\" class=\"dataframe\">\n",
              "  <thead>\n",
              "    <tr style=\"text-align: right;\">\n",
              "      <th></th>\n",
              "      <th>location_id</th>\n",
              "      <th>capacity</th>\n",
              "      <th>latitude</th>\n",
              "      <th>longitude</th>\n",
              "      <th>occupancy</th>\n",
              "      <th>vehicle_type</th>\n",
              "      <th>traffic</th>\n",
              "      <th>queue_length</th>\n",
              "      <th>is_special_day</th>\n",
              "      <th>timestamp</th>\n",
              "    </tr>\n",
              "  </thead>\n",
              "  <tbody>\n",
              "    <tr>\n",
              "      <th>0</th>\n",
              "      <td>BHMBCCMKT01</td>\n",
              "      <td>577</td>\n",
              "      <td>26.144536</td>\n",
              "      <td>91.736172</td>\n",
              "      <td>61</td>\n",
              "      <td>car</td>\n",
              "      <td>low</td>\n",
              "      <td>1</td>\n",
              "      <td>0</td>\n",
              "      <td>2016-10-04 07:59:00</td>\n",
              "    </tr>\n",
              "    <tr>\n",
              "      <th>1</th>\n",
              "      <td>BHMBCCMKT01</td>\n",
              "      <td>577</td>\n",
              "      <td>26.144536</td>\n",
              "      <td>91.736172</td>\n",
              "      <td>64</td>\n",
              "      <td>car</td>\n",
              "      <td>low</td>\n",
              "      <td>1</td>\n",
              "      <td>0</td>\n",
              "      <td>2016-10-04 08:25:00</td>\n",
              "    </tr>\n",
              "    <tr>\n",
              "      <th>2</th>\n",
              "      <td>BHMBCCMKT01</td>\n",
              "      <td>577</td>\n",
              "      <td>26.144536</td>\n",
              "      <td>91.736172</td>\n",
              "      <td>80</td>\n",
              "      <td>car</td>\n",
              "      <td>low</td>\n",
              "      <td>2</td>\n",
              "      <td>0</td>\n",
              "      <td>2016-10-04 08:59:00</td>\n",
              "    </tr>\n",
              "    <tr>\n",
              "      <th>3</th>\n",
              "      <td>BHMBCCMKT01</td>\n",
              "      <td>577</td>\n",
              "      <td>26.144536</td>\n",
              "      <td>91.736172</td>\n",
              "      <td>107</td>\n",
              "      <td>car</td>\n",
              "      <td>low</td>\n",
              "      <td>2</td>\n",
              "      <td>0</td>\n",
              "      <td>2016-10-04 09:32:00</td>\n",
              "    </tr>\n",
              "    <tr>\n",
              "      <th>4</th>\n",
              "      <td>BHMBCCMKT01</td>\n",
              "      <td>577</td>\n",
              "      <td>26.144536</td>\n",
              "      <td>91.736172</td>\n",
              "      <td>150</td>\n",
              "      <td>bike</td>\n",
              "      <td>low</td>\n",
              "      <td>2</td>\n",
              "      <td>0</td>\n",
              "      <td>2016-10-04 09:59:00</td>\n",
              "    </tr>\n",
              "  </tbody>\n",
              "</table>\n",
              "</div>\n",
              "    <div class=\"colab-df-buttons\">\n",
              "\n",
              "  <div class=\"colab-df-container\">\n",
              "    <button class=\"colab-df-convert\" onclick=\"convertToInteractive('df-a9aacd4e-ecb9-4fe3-875b-0d6108e11fd4')\"\n",
              "            title=\"Convert this dataframe to an interactive table.\"\n",
              "            style=\"display:none;\">\n",
              "\n",
              "  <svg xmlns=\"http://www.w3.org/2000/svg\" height=\"24px\" viewBox=\"0 -960 960 960\">\n",
              "    <path d=\"M120-120v-720h720v720H120Zm60-500h600v-160H180v160Zm220 220h160v-160H400v160Zm0 220h160v-160H400v160ZM180-400h160v-160H180v160Zm440 0h160v-160H620v160ZM180-180h160v-160H180v160Zm440 0h160v-160H620v160Z\"/>\n",
              "  </svg>\n",
              "    </button>\n",
              "\n",
              "  <style>\n",
              "    .colab-df-container {\n",
              "      display:flex;\n",
              "      gap: 12px;\n",
              "    }\n",
              "\n",
              "    .colab-df-convert {\n",
              "      background-color: #E8F0FE;\n",
              "      border: none;\n",
              "      border-radius: 50%;\n",
              "      cursor: pointer;\n",
              "      display: none;\n",
              "      fill: #1967D2;\n",
              "      height: 32px;\n",
              "      padding: 0 0 0 0;\n",
              "      width: 32px;\n",
              "    }\n",
              "\n",
              "    .colab-df-convert:hover {\n",
              "      background-color: #E2EBFA;\n",
              "      box-shadow: 0px 1px 2px rgba(60, 64, 67, 0.3), 0px 1px 3px 1px rgba(60, 64, 67, 0.15);\n",
              "      fill: #174EA6;\n",
              "    }\n",
              "\n",
              "    .colab-df-buttons div {\n",
              "      margin-bottom: 4px;\n",
              "    }\n",
              "\n",
              "    [theme=dark] .colab-df-convert {\n",
              "      background-color: #3B4455;\n",
              "      fill: #D2E3FC;\n",
              "    }\n",
              "\n",
              "    [theme=dark] .colab-df-convert:hover {\n",
              "      background-color: #434B5C;\n",
              "      box-shadow: 0px 1px 3px 1px rgba(0, 0, 0, 0.15);\n",
              "      filter: drop-shadow(0px 1px 2px rgba(0, 0, 0, 0.3));\n",
              "      fill: #FFFFFF;\n",
              "    }\n",
              "  </style>\n",
              "\n",
              "    <script>\n",
              "      const buttonEl =\n",
              "        document.querySelector('#df-a9aacd4e-ecb9-4fe3-875b-0d6108e11fd4 button.colab-df-convert');\n",
              "      buttonEl.style.display =\n",
              "        google.colab.kernel.accessAllowed ? 'block' : 'none';\n",
              "\n",
              "      async function convertToInteractive(key) {\n",
              "        const element = document.querySelector('#df-a9aacd4e-ecb9-4fe3-875b-0d6108e11fd4');\n",
              "        const dataTable =\n",
              "          await google.colab.kernel.invokeFunction('convertToInteractive',\n",
              "                                                    [key], {});\n",
              "        if (!dataTable) return;\n",
              "\n",
              "        const docLinkHtml = 'Like what you see? Visit the ' +\n",
              "          '<a target=\"_blank\" href=https://colab.research.google.com/notebooks/data_table.ipynb>data table notebook</a>'\n",
              "          + ' to learn more about interactive tables.';\n",
              "        element.innerHTML = '';\n",
              "        dataTable['output_type'] = 'display_data';\n",
              "        await google.colab.output.renderOutput(dataTable, element);\n",
              "        const docLink = document.createElement('div');\n",
              "        docLink.innerHTML = docLinkHtml;\n",
              "        element.appendChild(docLink);\n",
              "      }\n",
              "    </script>\n",
              "  </div>\n",
              "\n",
              "\n",
              "    <div id=\"df-96548b33-d7f7-4564-9891-c89c3024a482\">\n",
              "      <button class=\"colab-df-quickchart\" onclick=\"quickchart('df-96548b33-d7f7-4564-9891-c89c3024a482')\"\n",
              "                title=\"Suggest charts\"\n",
              "                style=\"display:none;\">\n",
              "\n",
              "<svg xmlns=\"http://www.w3.org/2000/svg\" height=\"24px\"viewBox=\"0 0 24 24\"\n",
              "     width=\"24px\">\n",
              "    <g>\n",
              "        <path d=\"M19 3H5c-1.1 0-2 .9-2 2v14c0 1.1.9 2 2 2h14c1.1 0 2-.9 2-2V5c0-1.1-.9-2-2-2zM9 17H7v-7h2v7zm4 0h-2V7h2v10zm4 0h-2v-4h2v4z\"/>\n",
              "    </g>\n",
              "</svg>\n",
              "      </button>\n",
              "\n",
              "<style>\n",
              "  .colab-df-quickchart {\n",
              "      --bg-color: #E8F0FE;\n",
              "      --fill-color: #1967D2;\n",
              "      --hover-bg-color: #E2EBFA;\n",
              "      --hover-fill-color: #174EA6;\n",
              "      --disabled-fill-color: #AAA;\n",
              "      --disabled-bg-color: #DDD;\n",
              "  }\n",
              "\n",
              "  [theme=dark] .colab-df-quickchart {\n",
              "      --bg-color: #3B4455;\n",
              "      --fill-color: #D2E3FC;\n",
              "      --hover-bg-color: #434B5C;\n",
              "      --hover-fill-color: #FFFFFF;\n",
              "      --disabled-bg-color: #3B4455;\n",
              "      --disabled-fill-color: #666;\n",
              "  }\n",
              "\n",
              "  .colab-df-quickchart {\n",
              "    background-color: var(--bg-color);\n",
              "    border: none;\n",
              "    border-radius: 50%;\n",
              "    cursor: pointer;\n",
              "    display: none;\n",
              "    fill: var(--fill-color);\n",
              "    height: 32px;\n",
              "    padding: 0;\n",
              "    width: 32px;\n",
              "  }\n",
              "\n",
              "  .colab-df-quickchart:hover {\n",
              "    background-color: var(--hover-bg-color);\n",
              "    box-shadow: 0 1px 2px rgba(60, 64, 67, 0.3), 0 1px 3px 1px rgba(60, 64, 67, 0.15);\n",
              "    fill: var(--button-hover-fill-color);\n",
              "  }\n",
              "\n",
              "  .colab-df-quickchart-complete:disabled,\n",
              "  .colab-df-quickchart-complete:disabled:hover {\n",
              "    background-color: var(--disabled-bg-color);\n",
              "    fill: var(--disabled-fill-color);\n",
              "    box-shadow: none;\n",
              "  }\n",
              "\n",
              "  .colab-df-spinner {\n",
              "    border: 2px solid var(--fill-color);\n",
              "    border-color: transparent;\n",
              "    border-bottom-color: var(--fill-color);\n",
              "    animation:\n",
              "      spin 1s steps(1) infinite;\n",
              "  }\n",
              "\n",
              "  @keyframes spin {\n",
              "    0% {\n",
              "      border-color: transparent;\n",
              "      border-bottom-color: var(--fill-color);\n",
              "      border-left-color: var(--fill-color);\n",
              "    }\n",
              "    20% {\n",
              "      border-color: transparent;\n",
              "      border-left-color: var(--fill-color);\n",
              "      border-top-color: var(--fill-color);\n",
              "    }\n",
              "    30% {\n",
              "      border-color: transparent;\n",
              "      border-left-color: var(--fill-color);\n",
              "      border-top-color: var(--fill-color);\n",
              "      border-right-color: var(--fill-color);\n",
              "    }\n",
              "    40% {\n",
              "      border-color: transparent;\n",
              "      border-right-color: var(--fill-color);\n",
              "      border-top-color: var(--fill-color);\n",
              "    }\n",
              "    60% {\n",
              "      border-color: transparent;\n",
              "      border-right-color: var(--fill-color);\n",
              "    }\n",
              "    80% {\n",
              "      border-color: transparent;\n",
              "      border-right-color: var(--fill-color);\n",
              "      border-bottom-color: var(--fill-color);\n",
              "    }\n",
              "    90% {\n",
              "      border-color: transparent;\n",
              "      border-bottom-color: var(--fill-color);\n",
              "    }\n",
              "  }\n",
              "</style>\n",
              "\n",
              "      <script>\n",
              "        async function quickchart(key) {\n",
              "          const quickchartButtonEl =\n",
              "            document.querySelector('#' + key + ' button');\n",
              "          quickchartButtonEl.disabled = true;  // To prevent multiple clicks.\n",
              "          quickchartButtonEl.classList.add('colab-df-spinner');\n",
              "          try {\n",
              "            const charts = await google.colab.kernel.invokeFunction(\n",
              "                'suggestCharts', [key], {});\n",
              "          } catch (error) {\n",
              "            console.error('Error during call to suggestCharts:', error);\n",
              "          }\n",
              "          quickchartButtonEl.classList.remove('colab-df-spinner');\n",
              "          quickchartButtonEl.classList.add('colab-df-quickchart-complete');\n",
              "        }\n",
              "        (() => {\n",
              "          let quickchartButtonEl =\n",
              "            document.querySelector('#df-96548b33-d7f7-4564-9891-c89c3024a482 button');\n",
              "          quickchartButtonEl.style.display =\n",
              "            google.colab.kernel.accessAllowed ? 'block' : 'none';\n",
              "        })();\n",
              "      </script>\n",
              "    </div>\n",
              "\n",
              "    </div>\n",
              "  </div>\n"
            ],
            "application/vnd.google.colaboratory.intrinsic+json": {
              "type": "dataframe",
              "variable_name": "df",
              "summary": "{\n  \"name\": \"df\",\n  \"rows\": 18368,\n  \"fields\": [\n    {\n      \"column\": \"location_id\",\n      \"properties\": {\n        \"dtype\": \"category\",\n        \"num_unique_values\": 14,\n        \"samples\": [\n          \"Others-CCCPS135a\",\n          \"Others-CCCPS8\",\n          \"BHMBCCMKT01\"\n        ],\n        \"semantic_type\": \"\",\n        \"description\": \"\"\n      }\n    },\n    {\n      \"column\": \"capacity\",\n      \"properties\": {\n        \"dtype\": \"number\",\n        \"std\": 1131,\n        \"min\": 387,\n        \"max\": 3883,\n        \"num_unique_values\": 14,\n        \"samples\": [\n          3883,\n          1322,\n          577\n        ],\n        \"semantic_type\": \"\",\n        \"description\": \"\"\n      }\n    },\n    {\n      \"column\": \"latitude\",\n      \"properties\": {\n        \"dtype\": \"number\",\n        \"std\": 1.5827489565711728,\n        \"min\": 20.0000347,\n        \"max\": 26.15050395,\n        \"num_unique_values\": 14,\n        \"samples\": [\n          26.14749943,\n          26.14754886,\n          26.14453614\n        ],\n        \"semantic_type\": \"\",\n        \"description\": \"\"\n      }\n    },\n    {\n      \"column\": \"longitude\",\n      \"properties\": {\n        \"dtype\": \"number\",\n        \"std\": 3.53663639500594,\n        \"min\": 78.00000286,\n        \"max\": 91.74099445,\n        \"num_unique_values\": 14,\n        \"samples\": [\n          91.72800489,\n          91.72799519,\n          91.73617216\n        ],\n        \"semantic_type\": \"\",\n        \"description\": \"\"\n      }\n    },\n    {\n      \"column\": \"occupancy\",\n      \"properties\": {\n        \"dtype\": \"number\",\n        \"std\": 621,\n        \"min\": 2,\n        \"max\": 3499,\n        \"num_unique_values\": 2347,\n        \"samples\": [\n          1082,\n          621,\n          2641\n        ],\n        \"semantic_type\": \"\",\n        \"description\": \"\"\n      }\n    },\n    {\n      \"column\": \"vehicle_type\",\n      \"properties\": {\n        \"dtype\": \"category\",\n        \"num_unique_values\": 4,\n        \"samples\": [\n          \"bike\",\n          \"cycle\",\n          \"car\"\n        ],\n        \"semantic_type\": \"\",\n        \"description\": \"\"\n      }\n    },\n    {\n      \"column\": \"traffic\",\n      \"properties\": {\n        \"dtype\": \"category\",\n        \"num_unique_values\": 3,\n        \"samples\": [\n          \"low\",\n          \"high\",\n          \"average\"\n        ],\n        \"semantic_type\": \"\",\n        \"description\": \"\"\n      }\n    },\n    {\n      \"column\": \"queue_length\",\n      \"properties\": {\n        \"dtype\": \"number\",\n        \"std\": 2,\n        \"min\": 0,\n        \"max\": 15,\n        \"num_unique_values\": 16,\n        \"samples\": [\n          1,\n          2,\n          8\n        ],\n        \"semantic_type\": \"\",\n        \"description\": \"\"\n      }\n    },\n    {\n      \"column\": \"is_special_day\",\n      \"properties\": {\n        \"dtype\": \"number\",\n        \"std\": 0,\n        \"min\": 0,\n        \"max\": 1,\n        \"num_unique_values\": 2,\n        \"samples\": [\n          1,\n          0\n        ],\n        \"semantic_type\": \"\",\n        \"description\": \"\"\n      }\n    },\n    {\n      \"column\": \"timestamp\",\n      \"properties\": {\n        \"dtype\": \"date\",\n        \"min\": \"2016-10-04 07:59:00\",\n        \"max\": \"2016-12-19 16:30:00\",\n        \"num_unique_values\": 1445,\n        \"samples\": [\n          \"2016-10-29 07:59:00\",\n          \"2016-10-23 13:06:00\"\n        ],\n        \"semantic_type\": \"\",\n        \"description\": \"\"\n      }\n    }\n  ]\n}"
            }
          },
          "metadata": {},
          "execution_count": 3
        },
        {
          "output_type": "stream",
          "name": "stderr",
          "text": [
            "<string>:5: FutureWarning: \n",
            "\n",
            "Passing `palette` without assigning `hue` is deprecated and will be removed in v0.14.0. Assign the `y` variable to `hue` and set `legend=False` for the same effect.\n",
            "\n"
          ]
        },
        {
          "output_type": "stream",
          "name": "stderr",
          "text": [
            "<string>:5: FutureWarning: \n",
            "\n",
            "Passing `palette` without assigning `hue` is deprecated and will be removed in v0.14.0. Assign the `y` variable to `hue` and set `legend=False` for the same effect.\n",
            "\n"
          ]
        }
      ],
      "source": [
        "# Load raw dataset\n",
        "df = pd.read_csv(\"/content/dataset.csv\")\n",
        "\n",
        "# Rename columns\n",
        "df = df.rename(columns={\n",
        "    \"SystemCodeNumber\": \"location_id\",\n",
        "    \"Occupancy\": \"occupancy\",\n",
        "    \"Capacity\": \"capacity\",\n",
        "    \"Latitude\": \"latitude\",\n",
        "    \"Longitude\": \"longitude\",\n",
        "    \"VehicleType\": \"vehicle_type\",\n",
        "    \"TrafficConditionNearby\": \"traffic\",\n",
        "    \"QueueLength\": \"queue_length\",\n",
        "    \"IsSpecialDay\": \"is_special_day\",\n",
        "    \"LastUpdatedDate\": \"date\",\n",
        "    \"LastUpdatedTime\": \"time\"\n",
        "})\n",
        "\n",
        "# Merge date and time into timestamp\n",
        "df[\"timestamp\"] = pd.to_datetime(df[\"date\"] + \" \" + df[\"time\"], dayfirst=True)\n",
        "df = df.drop(columns=[\"ID\", \"date\", \"time\"])\n",
        "\n",
        "# Save cleaned CSV for Pathway\n",
        "df.to_csv(\"/content/cleaned_dataset.csv\", index=False)\n",
        "df.head()\n"
      ]
    },
    {
      "source": [
        "from matplotlib import pyplot as plt\n",
        "_df_0['occupancy'].plot(kind='hist', bins=20, title='occupancy')\n",
        "plt.gca().spines[['top', 'right',]].set_visible(False)"
      ],
      "cell_type": "code",
      "metadata": {
        "colab": {
          "base_uri": "https://localhost:8080/",
          "height": 452
        },
        "id": "O4LB_hN35qJT",
        "outputId": "ec458e3a-00e6-41c4-c7f9-29afade5221b"
      },
      "id": "O4LB_hN35qJT",
      "execution_count": null,
      "outputs": []
    },
    {
      "cell_type": "markdown",
      "source": [
        "#Feature Engineering\n",
        "\n",
        "Key features influencing parking demand and optimal pricing include:\n",
        "\n",
        "* **Occupancy Rate:** `occupancy / capacity`\n",
        "* **Demand Proxy:** `occupancy + queue_length`\n",
        "* **Time-based Features:** Hour of day, day of week.\n",
        "* **Proximity to Competitors:** Requires calculating distances based on latitude/longitude (simplified for this example).\n",
        "* **Special Day Indicator:** Directly available.\n",
        "* **Traffic Congestion Level:** Categorical feature.\n",
        "\n",
        "These features will be computed in real-time using Pathway's `transform` capabilities."
      ],
      "metadata": {
        "id": "hWwVw1SnfRqQ"
      },
      "id": "hWwVw1SnfRqQ"
    },
    {
      "cell_type": "markdown",
      "id": "20ce6609",
      "metadata": {
        "id": "20ce6609"
      },
      "source": [
        "## Step 2 \u2013 Define Schema and Logic"
      ]
    },
    {
      "cell_type": "code",
      "execution_count": null,
      "id": "809561a5",
      "metadata": {
        "id": "809561a5"
      },
      "outputs": [],
      "source": [
        "class ParkingSchema(pw.Schema):\n",
        "    timestamp: str\n",
        "    location_id: str\n",
        "    occupancy: int\n",
        "    capacity: int\n",
        "    queue_length: int\n",
        "    traffic: str\n",
        "    is_special_day: int\n",
        "    vehicle_type: str\n",
        "    latitude: float\n",
        "    longitude: float\n"
      ]
    },
    {
      "cell_type": "code",
      "execution_count": null,
      "id": "b463cf3d",
      "metadata": {
        "id": "b463cf3d"
      },
      "outputs": [],
      "source": [
        "vehicle_weight_map = {'car': 1.0, 'bike': 0.5, 'truck': 1.5, 'cycle': 0.3}\n",
        "\n",
        "def demand_function(occ_ratio, queue_len, traffic, special, vehicle_weight, weights):\n",
        "    traffic_weight = {'low': 1.0, 'average': 0.5, 'high': 0.0}\n",
        "    traffic_score = traffic_weight.get(traffic.lower(), 0.5)\n",
        "    return (weights['alpha'] * occ_ratio +\n",
        "            weights['beta'] * queue_len -\n",
        "            weights['gamma'] * traffic_score +\n",
        "            weights['delta'] * special +\n",
        "            weights['epsilon'] * vehicle_weight)\n",
        "\n",
        "def normalized_price(base, demand, dmin, dmax, lam=0.5):\n",
        "    norm = (demand - dmin) / (dmax - dmin + 1e-6)\n",
        "    return np.clip(base * (1 + lam * norm), 5, 20)\n"
      ]
    },
    {
      "cell_type": "markdown",
      "id": "a65d74fe",
      "metadata": {
        "id": "a65d74fe"
      },
      "source": [
        "## Step 3 \u2013 Pathway Streaming and Price Calculation"
      ]
    },
    {
      "cell_type": "code",
      "execution_count": null,
      "id": "c0aa5dfc",
      "metadata": {
        "colab": {
          "base_uri": "https://localhost:8080/"
        },
        "id": "c0aa5dfc",
        "outputId": "f65be85b-c60b-4024-b0f4-05558e4e838e"
      },
      "outputs": [
        {
          "output_type": "stream",
          "name": "stderr",
          "text": [
            "/usr/local/lib/python3.11/dist-packages/beartype/_util/hint/pep/utilpeptest.py:311: BeartypeDecorHintPep585DeprecationWarning: PEP 484 type hint typing.Iterable[pathway.internals.expression.ColumnReference] deprecated by PEP 585. This hint is scheduled for removal in the first Python version released after October 5th, 2025. To resolve this, import this hint from \"beartype.typing\" rather than \"typing\". For further commentary and alternatives, see also:\n",
            "    https://beartype.readthedocs.io/en/latest/api_roar/#pep-585-deprecations\n",
            "  warn(\n"
          ]
        }
      ],
      "source": [
        "source = pw.io.csv.read(\n",
        "    '/content/cleaned_dataset.csv',\n",
        "    schema=ParkingSchema,\n",
        "    mode='streaming',\n",
        "    autocommit_duration_ms=1000\n",
        ")\n",
        "\n",
        "@pw.udf\n",
        "def get_vehicle_weight(vehicle):\n",
        "    return vehicle_weight_map.get(vehicle.lower(), 1.0)\n",
        "\n",
        "@pw.udf\n",
        "def get_occ_ratio(occupancy, capacity):\n",
        "    return occupancy / capacity\n",
        "\n",
        "@pw.udf\n",
        "def compute_demand(occ_ratio, queue, traffic, special, vweight):\n",
        "    weights = {'alpha': 1.0, 'beta': 0.8, 'gamma': 0.5, 'delta': 1.5, 'epsilon': 0.6}\n",
        "    return demand_function(occ_ratio, queue, traffic, special, vweight, weights)\n",
        "\n",
        "@pw.udf\n",
        "def final_price(demand):\n",
        "    return normalized_price(10, demand, 0, 10)\n",
        "\n",
        "# Process stream\n",
        "with_weight = source.with_columns(\n",
        "    vehicle_weight=get_vehicle_weight(source.vehicle_type),\n",
        "    occ_ratio=get_occ_ratio(source.occupancy, source.capacity)\n",
        ")\n",
        "\n",
        "with_demand = with_weight.with_columns(\n",
        "    demand=compute_demand(\n",
        "        with_weight.occ_ratio,\n",
        "        with_weight.queue_length,\n",
        "        with_weight.traffic,\n",
        "        with_weight.is_special_day,\n",
        "        with_weight.vehicle_weight\n",
        "    )\n",
        ")\n",
        "\n",
        "prices = with_demand.with_columns(\n",
        "    price=final_price(with_demand.demand)\n",
        ")\n",
        "\n",
        "# Save output\n",
        "pw.io.jsonlines.write(prices, '/content/pathway_output.jsonl')\n"
      ]
    },
    {
      "cell_type": "markdown",
      "id": "c31cf91b",
      "metadata": {
        "id": "c31cf91b"
      },
      "source": [
        "## Step 4 \u2013 Run and Visualize"
      ]
    },
    {
      "cell_type": "code",
      "execution_count": null,
      "id": "2324b1d2",
      "metadata": {
        "colab": {
          "base_uri": "https://localhost:8080/",
          "height": 424,
          "referenced_widgets": [
            "b05db248481f4e0a95b3a412605df6b1",
            "351f1e153a474114b80a9131176c83bd"
          ]
        },
        "id": "2324b1d2",
        "outputId": "6dc841a5-8eb2-4324-b35d-c0845c20beb4"
      },
      "outputs": [
        {
          "output_type": "error",
          "ename": "KeyboardInterrupt",
          "evalue": "",
          "traceback": [
            "\u001b[0;31m---------------------------------------------------------------------------\u001b[0m",
            "\u001b[0;31mKeyboardInterrupt\u001b[0m                         Traceback (most recent call last)",
            "\u001b[0;32m/tmp/ipython-input-13-79273960.py\u001b[0m in \u001b[0;36m<cell line: 0>\u001b[0;34m()\u001b[0m\n\u001b[1;32m      4\u001b[0m     \u001b[0mmode\u001b[0m\u001b[0;34m=\u001b[0m\u001b[0;34m'static'\u001b[0m  \u001b[0;31m# \u2190 changed from 'streaming'\u001b[0m\u001b[0;34m\u001b[0m\u001b[0;34m\u001b[0m\u001b[0m\n\u001b[1;32m      5\u001b[0m )\n\u001b[0;32m----> 6\u001b[0;31m \u001b[0mpw\u001b[0m\u001b[0;34m.\u001b[0m\u001b[0mrun\u001b[0m\u001b[0;34m(\u001b[0m\u001b[0;34m)\u001b[0m\u001b[0;34m\u001b[0m\u001b[0;34m\u001b[0m\u001b[0m\n\u001b[0m\u001b[1;32m      7\u001b[0m \u001b[0;34m\u001b[0m\u001b[0m\n\u001b[1;32m      8\u001b[0m \u001b[0mdf\u001b[0m \u001b[0;34m=\u001b[0m \u001b[0mpd\u001b[0m\u001b[0;34m.\u001b[0m\u001b[0mread_json\u001b[0m\u001b[0;34m(\u001b[0m\u001b[0;34m'/content/pathway_output.jsonl'\u001b[0m\u001b[0;34m,\u001b[0m \u001b[0mlines\u001b[0m\u001b[0;34m=\u001b[0m\u001b[0;32mTrue\u001b[0m\u001b[0;34m)\u001b[0m\u001b[0;34m\u001b[0m\u001b[0;34m\u001b[0m\u001b[0m\n",
            "\u001b[0;32m/usr/local/lib/python3.11/dist-packages/pathway/internals/runtime_type_check.py\u001b[0m in \u001b[0;36mwith_type_validation\u001b[0;34m(*args, **kwargs)\u001b[0m\n\u001b[1;32m     17\u001b[0m         \"\"\"\n\u001b[1;32m     18\u001b[0m         \u001b[0;32mtry\u001b[0m\u001b[0;34m:\u001b[0m\u001b[0;34m\u001b[0m\u001b[0;34m\u001b[0m\u001b[0m\n\u001b[0;32m---> 19\u001b[0;31m             \u001b[0;32mreturn\u001b[0m \u001b[0mbeartype\u001b[0m\u001b[0;34m.\u001b[0m\u001b[0mbeartype\u001b[0m\u001b[0;34m(\u001b[0m\u001b[0mf\u001b[0m\u001b[0;34m)\u001b[0m\u001b[0;34m(\u001b[0m\u001b[0;34m*\u001b[0m\u001b[0margs\u001b[0m\u001b[0;34m,\u001b[0m \u001b[0;34m**\u001b[0m\u001b[0mkwargs\u001b[0m\u001b[0;34m)\u001b[0m\u001b[0;34m\u001b[0m\u001b[0;34m\u001b[0m\u001b[0m\n\u001b[0m\u001b[1;32m     20\u001b[0m         \u001b[0;32mexcept\u001b[0m \u001b[0mbeartype\u001b[0m\u001b[0;34m.\u001b[0m\u001b[0mroar\u001b[0m\u001b[0;34m.\u001b[0m\u001b[0mBeartypeCallHintParamViolation\u001b[0m \u001b[0;32mas\u001b[0m \u001b[0me\u001b[0m\u001b[0;34m:\u001b[0m\u001b[0;34m\u001b[0m\u001b[0;34m\u001b[0m\u001b[0m\n\u001b[1;32m     21\u001b[0m             \u001b[0;32mraise\u001b[0m \u001b[0mTypeError\u001b[0m\u001b[0;34m(\u001b[0m\u001b[0me\u001b[0m\u001b[0;34m)\u001b[0m \u001b[0;32mfrom\u001b[0m \u001b[0;32mNone\u001b[0m\u001b[0;34m\u001b[0m\u001b[0;34m\u001b[0m\u001b[0m\n",
            "\u001b[0;32m<@beartype(pathway.internals.run.run) at 0x7f81cd2aa520>\u001b[0m in \u001b[0;36mrun\u001b[0;34m(__beartype_func, __beartype_conf, __beartype_get_violation, __beartype_object_263160032, __beartype_object_140196555985984, __beartype_object_140195107260736, __beartype_object_9637792, *args, **kwargs)\u001b[0m\n",
            "\u001b[0;32m/usr/local/lib/python3.11/dist-packages/pathway/internals/run.py\u001b[0m in \u001b[0;36mrun\u001b[0;34m(debug, monitoring_level, with_http_server, default_logging, persistence_config, runtime_typechecking, terminate_on_error, max_expression_batch_size)\u001b[0m\n\u001b[1;32m     53\u001b[0m         \u001b[0mmax_expression_batch_size\u001b[0m\u001b[0;34m=\u001b[0m\u001b[0mmax_expression_batch_size\u001b[0m\u001b[0;34m,\u001b[0m\u001b[0;34m\u001b[0m\u001b[0;34m\u001b[0m\u001b[0m\n\u001b[1;32m     54\u001b[0m         \u001b[0m_stacklevel\u001b[0m\u001b[0;34m=\u001b[0m\u001b[0;36m4\u001b[0m\u001b[0;34m,\u001b[0m\u001b[0;34m\u001b[0m\u001b[0;34m\u001b[0m\u001b[0m\n\u001b[0;32m---> 55\u001b[0;31m     ).run_outputs()\n\u001b[0m\u001b[1;32m     56\u001b[0m \u001b[0;34m\u001b[0m\u001b[0m\n\u001b[1;32m     57\u001b[0m \u001b[0;34m\u001b[0m\u001b[0m\n",
            "\u001b[0;32m/usr/local/lib/python3.11/dist-packages/pathway/internals/graph_runner/__init__.py\u001b[0m in \u001b[0;36mrun_outputs\u001b[0;34m(self, after_build)\u001b[0m\n\u001b[1;32m    117\u001b[0m         \u001b[0mafter_build\u001b[0m\u001b[0;34m:\u001b[0m \u001b[0mCallable\u001b[0m\u001b[0;34m[\u001b[0m\u001b[0;34m[\u001b[0m\u001b[0mScopeState\u001b[0m\u001b[0;34m,\u001b[0m \u001b[0mOperatorStorageGraph\u001b[0m\u001b[0;34m]\u001b[0m\u001b[0;34m,\u001b[0m \u001b[0;32mNone\u001b[0m\u001b[0;34m]\u001b[0m \u001b[0;34m|\u001b[0m \u001b[0;32mNone\u001b[0m \u001b[0;34m=\u001b[0m \u001b[0;32mNone\u001b[0m\u001b[0;34m,\u001b[0m\u001b[0;34m\u001b[0m\u001b[0;34m\u001b[0m\u001b[0m\n\u001b[1;32m    118\u001b[0m     ) -> None:\n\u001b[0;32m--> 119\u001b[0;31m         \u001b[0mself\u001b[0m\u001b[0;34m.\u001b[0m\u001b[0mrun_nodes\u001b[0m\u001b[0;34m(\u001b[0m\u001b[0mself\u001b[0m\u001b[0;34m.\u001b[0m\u001b[0m_graph\u001b[0m\u001b[0;34m.\u001b[0m\u001b[0mglobal_scope\u001b[0m\u001b[0;34m.\u001b[0m\u001b[0moutput_nodes\u001b[0m\u001b[0;34m,\u001b[0m \u001b[0mafter_build\u001b[0m\u001b[0;34m=\u001b[0m\u001b[0mafter_build\u001b[0m\u001b[0;34m)\u001b[0m\u001b[0;34m\u001b[0m\u001b[0;34m\u001b[0m\u001b[0m\n\u001b[0m\u001b[1;32m    120\u001b[0m \u001b[0;34m\u001b[0m\u001b[0m\n\u001b[1;32m    121\u001b[0m     \u001b[0;32mdef\u001b[0m \u001b[0mhas_bounded_input\u001b[0m\u001b[0;34m(\u001b[0m\u001b[0mself\u001b[0m\u001b[0;34m,\u001b[0m \u001b[0mtable\u001b[0m\u001b[0;34m:\u001b[0m \u001b[0mtable\u001b[0m\u001b[0;34m.\u001b[0m\u001b[0mTable\u001b[0m\u001b[0;34m)\u001b[0m \u001b[0;34m->\u001b[0m \u001b[0mbool\u001b[0m\u001b[0;34m:\u001b[0m\u001b[0;34m\u001b[0m\u001b[0;34m\u001b[0m\u001b[0m\n",
            "\u001b[0;32m/usr/local/lib/python3.11/dist-packages/pathway/internals/graph_runner/__init__.py\u001b[0m in \u001b[0;36mrun_nodes\u001b[0;34m(self, nodes, after_build)\u001b[0m\n\u001b[1;32m     93\u001b[0m     ):\n\u001b[1;32m     94\u001b[0m         \u001b[0mall_nodes\u001b[0m \u001b[0;34m=\u001b[0m \u001b[0mself\u001b[0m\u001b[0;34m.\u001b[0m\u001b[0m_tree_shake\u001b[0m\u001b[0;34m(\u001b[0m\u001b[0mself\u001b[0m\u001b[0;34m.\u001b[0m\u001b[0m_graph\u001b[0m\u001b[0;34m.\u001b[0m\u001b[0mglobal_scope\u001b[0m\u001b[0;34m,\u001b[0m \u001b[0mnodes\u001b[0m\u001b[0;34m)\u001b[0m\u001b[0;34m\u001b[0m\u001b[0;34m\u001b[0m\u001b[0m\n\u001b[0;32m---> 95\u001b[0;31m         \u001b[0mself\u001b[0m\u001b[0;34m.\u001b[0m\u001b[0m_run\u001b[0m\u001b[0;34m(\u001b[0m\u001b[0mall_nodes\u001b[0m\u001b[0;34m,\u001b[0m \u001b[0mafter_build\u001b[0m\u001b[0;34m=\u001b[0m\u001b[0mafter_build\u001b[0m\u001b[0;34m)\u001b[0m\u001b[0;34m\u001b[0m\u001b[0;34m\u001b[0m\u001b[0m\n\u001b[0m\u001b[1;32m     96\u001b[0m \u001b[0;34m\u001b[0m\u001b[0m\n\u001b[1;32m     97\u001b[0m     def run_tables(\n",
            "\u001b[0;32m/usr/local/lib/python3.11/dist-packages/pathway/internals/graph_runner/__init__.py\u001b[0m in \u001b[0;36m_run\u001b[0;34m(self, nodes, output_tables, after_build, run_all)\u001b[0m\n\u001b[1;32m    202\u001b[0m             ):\n\u001b[1;32m    203\u001b[0m                 \u001b[0;32mtry\u001b[0m\u001b[0;34m:\u001b[0m\u001b[0;34m\u001b[0m\u001b[0;34m\u001b[0m\u001b[0m\n\u001b[0;32m--> 204\u001b[0;31m                     return api.run_with_new_graph(\n\u001b[0m\u001b[1;32m    205\u001b[0m                         \u001b[0mlogic\u001b[0m\u001b[0;34m,\u001b[0m\u001b[0;34m\u001b[0m\u001b[0;34m\u001b[0m\u001b[0m\n\u001b[1;32m    206\u001b[0m                         \u001b[0mevent_loop\u001b[0m\u001b[0;34m=\u001b[0m\u001b[0mevent_loop\u001b[0m\u001b[0;34m,\u001b[0m\u001b[0;34m\u001b[0m\u001b[0;34m\u001b[0m\u001b[0m\n",
            "\u001b[0;31mKeyboardInterrupt\u001b[0m: "
          ]
        }
      ],
      "source": [
        "source = pw.io.csv.read(\n",
        "    '/content/cleaned_dataset.csv',\n",
        "    schema=ParkingSchema,\n",
        "    mode='static'  # \u2190 changed from 'streaming'\n",
        ")\n",
        "pw.run()\n",
        "\n",
        "df = pd.read_json('/content/pathway_output.jsonl', lines=True)\n",
        "df.to_csv('/content/pathway_output.csv', index=False)\n"
      ]
    },
    {
      "cell_type": "code",
      "execution_count": null,
      "id": "6155c201",
      "metadata": {
        "id": "6155c201"
      },
      "outputs": [],
      "source": [
        "lot_id = df['location_id'].unique()[0]\n",
        "plot_data = df[df['location_id'] == lot_id]\n",
        "\n",
        "source = ColumnDataSource(data=dict(\n",
        "    x=plot_data['timestamp'].astype(str),\n",
        "    y=plot_data['price']\n",
        "))\n",
        "\n",
        "p = figure(title=f\"Real-Time Price \u2013 Lot {lot_id}\", x_range=plot_data['timestamp'].astype(str),\n",
        "           height=300, x_axis_label='Time', y_axis_label='Price', sizing_mode='scale_width')\n",
        "p.line(x='x', y='y', source=source, line_width=2, color=\"green\")\n",
        "show(p)\n"
      ]
    },
    {
      "cell_type": "markdown",
      "source": [
        "## 9. Assumptions\n",
        "\n",
        "1.  **Data Simulation:** The `dataset.csv` is treated as a real-time stream, with new records appearing at discrete time intervals. In a production environment, this would be replaced by actual data ingestion from sensors or external APIs.\n",
        "2.  **Competitor Pricing:** Competitor prices are currently hardcoded (`10.0`). A more robust system would integrate real-time competitor data.\n",
        "3.  **Optimal Price for ML Model:** The 'optimal price' used for training the linear regression model is a heuristic based on occupancy and queue length. A true optimal price would require historical data on revenue maximization or desired utilization rates.\n",
        "4.  **Demand Function:** The demand function is a simplified linear model. Real-world demand is often non-linear and influenced by numerous complex factors.\n",
        "5.  **Location Data:** Proximity to competitors is a conceptual feature. Actual implementation would involve geocoding and distance calculations.\n",
        "6.  **Model Selection:** For the real-time application, Model 2 (Rule-Based) was arbitrarily chosen as the 'final_price'. In practice, model selection would be based on performance metrics or business objectives.\n"
      ],
      "metadata": {
        "id": "wWJX8yuKfmXm"
      },
      "id": "wWJX8yuKfmXm"
    },
    {
      "cell_type": "markdown",
      "source": [
        "## 10. Conclusion and Future Work\n",
        "\n",
        "This notebook demonstrates a complete dynamic pricing system for urban parking lots using Pathway for real-time data processing and Bokeh for interactive visualizations. Three pricing models were developed, showcasing different levels of complexity from simple rules to a basic machine learning approach.\n",
        "\n",
        "**Future Work:**\n",
        "* **Advanced ML Models:** Implement more sophisticated machine learning models (e.g., Gradient Boosting, Neural Networks) if external libraries are permitted, or more complex models using only `numpy` and `pandas` if strictly necessary.\n",
        "* **Optimization Algorithms:** Integrate optimization algorithms (e.g., reinforcement learning) to learn optimal pricing strategies directly from interactions with the environment.\n",
        "* **External Data Integration:** Incorporate real-time data from external sources such as weather, local events calendars, and actual competitor pricing APIs.\n",
        "* **Feedback Loop:** Implement a feedback loop where actual demand (post-pricing) influences future price predictions.\n",
        "* **User Interface:** Develop a more comprehensive dashboard with more interactive controls and analytics using Bokeh or Panel.\n",
        "* **Scalability:** Further optimize the Pathway pipeline for handling even larger volumes of real-time data and a greater number of parking spaces.\n"
      ],
      "metadata": {
        "id": "rqt-Cmpvfbtq"
      },
      "id": "rqt-Cmpvfbtq"
    }
  ],
  "metadata": {
    "colab": {
      "provenance": []
    },
    "language_info": {
      "name": "python"
    },
    "kernelspec": {
      "name": "python3",
      "display_name": "Python 3"
    }
  },
  "nbformat": 4,
  "nbformat_minor": 5
}